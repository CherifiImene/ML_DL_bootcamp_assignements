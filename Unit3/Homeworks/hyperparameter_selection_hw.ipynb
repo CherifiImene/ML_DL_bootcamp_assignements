{
  "nbformat": 4,
  "nbformat_minor": 0,
  "metadata": {
    "colab": {
      "name": "hyperparameter_selection_hw.ipynb",
      "provenance": []
    },
    "kernelspec": {
      "name": "python3",
      "display_name": "Python 3"
    },
    "language_info": {
      "name": "python"
    }
  },
  "cells": [
    {
      "cell_type": "markdown",
      "source": [
        "\n",
        "In this homework you will be using Grid Search and the AutoSKLearn:\n",
        "- Dataset to be used is the Digits dataset from sklearn\n",
        "- First use the support vector machine classifier along with Grid search to get the best SVC classifier possible for this task\n",
        "- Next you will be using the auto sklearn to find the best fitting classifier for this dataset\n",
        "- Compare the results in terms of (execution time, model complexity, and model performance)\n",
        "\n",
        "\n"
      ],
      "metadata": {
        "id": "9qhn--oIqn_m"
      }
    },
    {
      "cell_type": "code",
      "execution_count": 8,
      "metadata": {
        "id": "_xS5HzDMqfig"
      },
      "outputs": [],
      "source": [
        "from sklearn.datasets import load_digits\n",
        "from sklearn.model_selection import train_test_split\n",
        "from sklearn.svm import SVC\n",
        "from sklearn.model_selection import GridSearchCV\n",
        "from sklearn.metrics import classification_report, accuracy_score"
      ]
    },
    {
      "cell_type": "code",
      "source": [
        "X,y = load_digits(return_X_y=True)\n",
        "\n",
        "X_train, X_test, y_train ,y_test = train_test_split(X,y, test_size=0.2, random_state=42)"
      ],
      "metadata": {
        "id": "vJ0AhJZAqv5t"
      },
      "execution_count": 2,
      "outputs": []
    },
    {
      "cell_type": "code",
      "source": [
        "def grid_serach(X_train,y_train,X_test,y_test,tuned_parameters,metric=\"precision\"):\n",
        "    print(\"# Tuning Hyper-parameter for metric %s\" % metric)\n",
        "    \n",
        "    clf = GridSearchCV(SVC(),tuned_parameters,scoring='%s_macro' % metric)\n",
        "    clf.fit(X_train, y_train)\n",
        "    \n",
        "    print(\"Best parameter found \")\n",
        "    print(clf.best_params_)\n",
        "    print(\"Grid scores on development set : \")\n",
        "    print(clf.best_estimator_)\n",
        "    print()\n",
        "    \n",
        "    means = clf.cv_results_[\"mean_test_score\"]\n",
        "    stds = clf.cv_results_[\"std_test_score\"]\n",
        "    for mean, std, params in zip(means,stds,clf.cv_results_['params']):\n",
        "        print(\"%0.3f (+/-%0.03f) for %r\"% (mean,std*2,params))\n",
        "    \n",
        "    print(\"Classification Report \")\n",
        "    y_true,y_pred = y_test,clf.predict(X_test)\n",
        "    \n",
        "    print(classification_report(y_true,y_pred))"
      ],
      "metadata": {
        "id": "QLISKEiBq3TO"
      },
      "execution_count": 3,
      "outputs": []
    },
    {
      "cell_type": "code",
      "source": [
        "tuned_parameters = [{\"kernel\":[\"rbf\",\"linear\"],\n",
        "                     \"gamma\": [1e-3, 1e-4],\n",
        "                     \"C\": [1,10,100,1000]\n",
        "                     }]\n",
        "grid_serach(X_train,y_train,X_test,y_test,tuned_parameters)"
      ],
      "metadata": {
        "colab": {
          "base_uri": "https://localhost:8080/"
        },
        "id": "mfGbNceyq8Hi",
        "outputId": "8a61f3cb-dec6-4f4e-be41-809d465e7e86"
      },
      "execution_count": 4,
      "outputs": [
        {
          "output_type": "stream",
          "name": "stdout",
          "text": [
            "# Tuning Hyper-parameter for metric precision\n",
            "Best parameter found \n",
            "{'C': 10, 'gamma': 0.001, 'kernel': 'rbf'}\n",
            "Grid scores on development set : \n",
            "SVC(C=10, gamma=0.001)\n",
            "\n",
            "0.988 (+/-0.008) for {'C': 1, 'gamma': 0.001, 'kernel': 'rbf'}\n",
            "0.972 (+/-0.016) for {'C': 1, 'gamma': 0.001, 'kernel': 'linear'}\n",
            "0.971 (+/-0.018) for {'C': 1, 'gamma': 0.0001, 'kernel': 'rbf'}\n",
            "0.972 (+/-0.016) for {'C': 1, 'gamma': 0.0001, 'kernel': 'linear'}\n",
            "0.990 (+/-0.007) for {'C': 10, 'gamma': 0.001, 'kernel': 'rbf'}\n",
            "0.972 (+/-0.016) for {'C': 10, 'gamma': 0.001, 'kernel': 'linear'}\n",
            "0.983 (+/-0.012) for {'C': 10, 'gamma': 0.0001, 'kernel': 'rbf'}\n",
            "0.972 (+/-0.016) for {'C': 10, 'gamma': 0.0001, 'kernel': 'linear'}\n",
            "0.990 (+/-0.007) for {'C': 100, 'gamma': 0.001, 'kernel': 'rbf'}\n",
            "0.972 (+/-0.016) for {'C': 100, 'gamma': 0.001, 'kernel': 'linear'}\n",
            "0.985 (+/-0.006) for {'C': 100, 'gamma': 0.0001, 'kernel': 'rbf'}\n",
            "0.972 (+/-0.016) for {'C': 100, 'gamma': 0.0001, 'kernel': 'linear'}\n",
            "0.990 (+/-0.007) for {'C': 1000, 'gamma': 0.001, 'kernel': 'rbf'}\n",
            "0.972 (+/-0.016) for {'C': 1000, 'gamma': 0.001, 'kernel': 'linear'}\n",
            "0.985 (+/-0.006) for {'C': 1000, 'gamma': 0.0001, 'kernel': 'rbf'}\n",
            "0.972 (+/-0.016) for {'C': 1000, 'gamma': 0.0001, 'kernel': 'linear'}\n",
            "Classification Report \n",
            "              precision    recall  f1-score   support\n",
            "\n",
            "           0       1.00      1.00      1.00        33\n",
            "           1       1.00      1.00      1.00        28\n",
            "           2       1.00      1.00      1.00        33\n",
            "           3       1.00      0.97      0.99        34\n",
            "           4       1.00      1.00      1.00        46\n",
            "           5       0.98      0.98      0.98        47\n",
            "           6       0.97      1.00      0.99        35\n",
            "           7       0.97      0.97      0.97        34\n",
            "           8       1.00      1.00      1.00        30\n",
            "           9       0.97      0.97      0.97        40\n",
            "\n",
            "    accuracy                           0.99       360\n",
            "   macro avg       0.99      0.99      0.99       360\n",
            "weighted avg       0.99      0.99      0.99       360\n",
            "\n"
          ]
        }
      ]
    },
    {
      "cell_type": "code",
      "source": [
        "import autosklearn.classification as automl"
      ],
      "metadata": {
        "id": "FKy2sCG9rJdi"
      },
      "execution_count": 6,
      "outputs": []
    },
    {
      "cell_type": "code",
      "source": [
        "import warnings\n",
        "\n",
        "warnings.filterwarnings(\"ignore\")"
      ],
      "metadata": {
        "id": "Mt6Er54zrzvR"
      },
      "execution_count": 7,
      "outputs": []
    },
    {
      "cell_type": "code",
      "source": [
        "clf = automl.AutoSklearnClassifier(time_left_for_this_task=1*60, per_run_time_limit=30,n_jobs=1)\n",
        "\n",
        "clf.fit(X_train,y_train)\n",
        "\n",
        "y_pred = clf.predict(X_test)\n",
        "print(classification_report(y_test,y_pred))"
      ],
      "metadata": {
        "colab": {
          "base_uri": "https://localhost:8080/"
        },
        "id": "gpyFherItXJN",
        "outputId": "82533b75-4a56-4fdb-b7da-5578bbf9a0c3"
      },
      "execution_count": 9,
      "outputs": [
        {
          "output_type": "stream",
          "name": "stdout",
          "text": [
            "[WARNING] [2021-12-23 23:57:06,087:Client-AutoML(1):074df2c8-644c-11ec-80cf-0242ac1c0002] Capping the per_run_time_limit to 29.0 to have time for a least 2 models in each process.\n",
            "              precision    recall  f1-score   support\n",
            "\n",
            "           0       1.00      1.00      1.00        33\n",
            "           1       0.97      1.00      0.98        28\n",
            "           2       1.00      1.00      1.00        33\n",
            "           3       1.00      0.97      0.99        34\n",
            "           4       1.00      1.00      1.00        46\n",
            "           5       0.94      0.98      0.96        47\n",
            "           6       0.97      0.97      0.97        35\n",
            "           7       0.97      0.97      0.97        34\n",
            "           8       1.00      0.90      0.95        30\n",
            "           9       0.95      0.97      0.96        40\n",
            "\n",
            "    accuracy                           0.98       360\n",
            "   macro avg       0.98      0.98      0.98       360\n",
            "weighted avg       0.98      0.98      0.98       360\n",
            "\n"
          ]
        }
      ]
    }
  ]
}