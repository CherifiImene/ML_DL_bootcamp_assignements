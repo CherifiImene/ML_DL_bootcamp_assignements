{
 "cells": [
  {
   "cell_type": "markdown",
   "metadata": {},
   "source": [
    "Use the iris flowers dataset that you can find in the sklearn package( sklearn.dataset.load_iris) to :\n",
    "\n",
    "    Train a classical logistic regression model.\n",
    "    After training your model, get a report detailing the results of your model using the classification metrics we studied in this lesson.\n",
    "    Take the time to comment on your results and add your thoughts about your model’s performance.\n"
   ]
  },
  {
   "cell_type": "markdown",
   "metadata": {},
   "source": [
    "### Logistic Regression"
   ]
  },
  {
   "cell_type": "markdown",
   "metadata": {},
   "source": [
    "Bellow we we'll be predicting whether the flowers belong to the 2nd class or not"
   ]
  },
  {
   "cell_type": "code",
   "execution_count": 1,
   "metadata": {},
   "outputs": [],
   "source": [
    "import numpy  as np\n",
    "import matplotlib.pyplot as plt"
   ]
  },
  {
   "cell_type": "code",
   "execution_count": 2,
   "metadata": {},
   "outputs": [],
   "source": [
    "from sklearn.datasets import load_iris\n",
    "from sklearn.linear_model import LogisticRegression\n",
    "from sklearn.model_selection import train_test_split"
   ]
  },
  {
   "cell_type": "code",
   "execution_count": 3,
   "metadata": {},
   "outputs": [],
   "source": [
    "iris_data = load_iris()\n",
    "X = iris_data[\"data\"][:, 3:]\n",
    "y = (iris_data[\"target\"] == 2).astype(np.int)\n",
    "X_train, X_test, Y_train, Y_test = train_test_split(X,y,train_size=0.8,random_state=0)"
   ]
  },
  {
   "cell_type": "code",
   "execution_count": 4,
   "metadata": {},
   "outputs": [
    {
     "data": {
      "text/plain": [
       "LogisticRegression(C=1.0, class_weight=None, dual=False, fit_intercept=True,\n",
       "                   intercept_scaling=1, l1_ratio=None, max_iter=100,\n",
       "                   multi_class='auto', n_jobs=None, penalty='l2',\n",
       "                   random_state=None, solver='lbfgs', tol=0.0001, verbose=0,\n",
       "                   warm_start=False)"
      ]
     },
     "execution_count": 4,
     "metadata": {},
     "output_type": "execute_result"
    }
   ],
   "source": [
    "model = LogisticRegression()\n",
    "model.fit(X_train,Y_train)"
   ]
  },
  {
   "cell_type": "code",
   "execution_count": 5,
   "metadata": {},
   "outputs": [],
   "source": [
    "y_pred = model.predict(X_test)"
   ]
  },
  {
   "cell_type": "markdown",
   "metadata": {},
   "source": [
    "### Report"
   ]
  },
  {
   "cell_type": "code",
   "execution_count": 6,
   "metadata": {},
   "outputs": [],
   "source": [
    "from sklearn.metrics import confusion_matrix"
   ]
  },
  {
   "cell_type": "code",
   "execution_count": 7,
   "metadata": {},
   "outputs": [
    {
     "data": {
      "text/plain": [
       "array([[24,  0],\n",
       "       [ 1,  5]], dtype=int64)"
      ]
     },
     "execution_count": 7,
     "metadata": {},
     "output_type": "execute_result"
    }
   ],
   "source": [
    "cnf_matrix = confusion_matrix(Y_test,y_pred)\n",
    "cnf_matrix"
   ]
  },
  {
   "cell_type": "markdown",
   "metadata": {},
   "source": [
    "#### Implementing Evaluation metrics from scratch"
   ]
  },
  {
   "cell_type": "code",
   "execution_count": 9,
   "metadata": {},
   "outputs": [],
   "source": [
    "class Metrics :\n",
    "    def __init__(self,conf_matrix:np.ndarray) :\n",
    "        self.tp = cnf_matrix[0,0]\n",
    "        self.fn = cnf_matrix[0,1]\n",
    "        self.fp = cnf_matrix[1,0]\n",
    "        self.tn = cnf_matrix[1,1]\n",
    "            \n",
    "    def precision(self)->float:\n",
    "        return self.tp/(self.tp + self.fp)    \n",
    "\n",
    "    def negative_predictive_value(self)->float:\n",
    "        return self.tn/(self.fn + self.tn)\n",
    "\n",
    "    def recall(self)->float :\n",
    "        return self.tp/(self.tp + self.fn)\n",
    "\n",
    "    def specificity(self)->float:\n",
    "        return self.tn/(self.tn + self.fp)\n",
    "\n",
    "    def accuracy(self)->float:\n",
    "        return (self.tp + self.tn)/(self.tp + self.tn + self.fp + self.fn)"
   ]
  },
  {
   "cell_type": "code",
   "execution_count": 12,
   "metadata": {},
   "outputs": [
    {
     "name": "stdout",
     "output_type": "stream",
     "text": [
      "Precision : 0.96\n",
      "Negative Predictive Value : 1.0\n",
      "Recall (Sensitivity) : 1.0\n",
      "Specificity : 0.8333333333333334\n",
      "Accuracy : 0.9666666666666667\n"
     ]
    }
   ],
   "source": [
    "lr_metrics = Metrics(conf_matrix=cnf_matrix)\n",
    "print(f\"Precision : {lr_metrics.precision()}\")\n",
    "print(f\"Negative Predictive Value : {lr_metrics.negative_predictive_value()}\")\n",
    "print(f\"Recall (Sensitivity) : {lr_metrics.recall()}\")\n",
    "print(f\"Specificity : {lr_metrics.specificity()}\")\n",
    "print(f\"Accuracy : {lr_metrics.accuracy()}\")"
   ]
  },
  {
   "cell_type": "markdown",
   "metadata": {},
   "source": [
    "- Precision of 0.96 ===> It means that from all the flowers predicted to be belonging to the class 2, 96% of them were indeed from class 2 and 4% were miss-classified\n",
    "\n",
    "- Negative Predictive Value : 1.0 ===> It means all the flowers that were predicted to not be belonging to the class 2 were all correctly classified\n",
    "\n",
    "- Recall (Sensitivity) : 1.0 ===> It means that all the flowers that belongs to the class 2 were all predicted to be belonging to class 2\n",
    "- Specificity : 0.834 ==> It means from all the flowers that do not belong to class 2, 83% were correctly classified and 17% were miss-classified to be belonging to class 2\n",
    "- Accuracy : 0.967 ==> It means from all the dataset 96% of the flowers were correctly classified to their true class"
   ]
  },
  {
   "cell_type": "markdown",
   "metadata": {},
   "source": [
    "#### Scikit-learn Metrics"
   ]
  },
  {
   "cell_type": "code",
   "execution_count": 13,
   "metadata": {},
   "outputs": [],
   "source": [
    "from sklearn import metrics"
   ]
  },
  {
   "cell_type": "code",
   "execution_count": 14,
   "metadata": {},
   "outputs": [
    {
     "name": "stdout",
     "output_type": "stream",
     "text": [
      "Precision : 1.0\n",
      "Recall (Sensitivity) : 0.8333333333333334\n",
      "Accuracy : 0.9666666666666667\n"
     ]
    }
   ],
   "source": [
    "print(f\"Precision : {metrics.precision_score(Y_test,y_pred)}\")\n",
    "print(f\"Recall (Sensitivity) : {metrics.recall_score(Y_test,y_pred)}\")\n",
    "print(f\"Accuracy : {metrics.accuracy_score(Y_test,y_pred)}\")"
   ]
  },
  {
   "cell_type": "markdown",
   "metadata": {},
   "source": [
    "As we can see the results are the same like the ones implemented before"
   ]
  },
  {
   "cell_type": "markdown",
   "metadata": {},
   "source": [
    "#### ROC Curve"
   ]
  },
  {
   "cell_type": "code",
   "execution_count": 15,
   "metadata": {},
   "outputs": [
    {
     "data": {
      "image/png": "[encoded data removed]",
      "text/plain": [
       "<Figure size 432x288 with 1 Axes>"
      ]
     },
     "metadata": {
      "needs_background": "light"
     },
     "output_type": "display_data"
    }
   ],
   "source": [
    "y_pred_proba = model.predict_proba(X_test)[::,1]\n",
    "fpr, tpr, _ = metrics.roc_curve(Y_test,  y_pred_proba)\n",
    "roc = metrics.roc_auc_score(Y_test, y_pred_proba)\n",
    "plt.plot(fpr,tpr,label=\"data 1, roc=\"+str(roc))\n",
    "plt.legend(loc=4)\n",
    "plt.xlabel(\"False positive rate\")\n",
    "plt.ylabel(\"True positive rate\")\n",
    "plt.show()"
   ]
  },
  {
   "cell_type": "markdown",
   "metadata": {},
   "source": [
    "Receiver Operating Characteristic(ROC) curve is a plot of the true positive rate against the false positive rate. It shows the tradeoff between sensitivity and specificity"
   ]
  },
  {
   "cell_type": "code",
   "execution_count": 17,
   "metadata": {},
   "outputs": [
    {
     "name": "stdout",
     "output_type": "stream",
     "text": [
      "Classification Report : \n",
      "              precision    recall  f1-score   support\n",
      "\n",
      "           0       0.96      1.00      0.98        24\n",
      "           1       1.00      0.83      0.91         6\n",
      "\n",
      "    accuracy                           0.97        30\n",
      "   macro avg       0.98      0.92      0.94        30\n",
      "weighted avg       0.97      0.97      0.97        30\n",
      "\n"
     ]
    }
   ],
   "source": [
    "print(f\"Classification Report : \\n{metrics.classification_report(Y_test,y_pred)}\")"
   ]
  }
 ],
 "metadata": {
  "interpreter": {
   "hash": "cd8ac7ed5329ff1f59a8356dfddf06d159cf18414acbfd7b13d1d5cd1cbb5d7d"
  },
  "kernelspec": {
   "display_name": "Python 3.8.11 64-bit ('base': conda)",
   "language": "python",
   "name": "python3"
  },
  "language_info": {
   "codemirror_mode": {
    "name": "ipython",
    "version": 3
   },
   "file_extension": ".py",
   "mimetype": "text/x-python",
   "name": "python",
   "nbconvert_exporter": "python",
   "pygments_lexer": "ipython3",
   "version": "3.8.11"
  },
  "orig_nbformat": 4
 },
 "nbformat": 4,
 "nbformat_minor": 2
}
