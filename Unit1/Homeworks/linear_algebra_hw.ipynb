{
 "cells": [
  {
   "cell_type": "markdown",
   "id": "1287637a",
   "metadata": {},
   "source": [
    "# Linear Algebra Homework"
   ]
  },
  {
   "cell_type": "code",
   "execution_count": 40,
   "id": "bffc8451",
   "metadata": {},
   "outputs": [],
   "source": [
    "#You are given a colored image, read the image and apply the following operations to it:\n",
    "#Transpose.\n",
    "#Check if the matrix is one or many of the special types we have seen (diagonal, triagonal...).\n",
    "#Choose a column vector and calculate both norms that we’ve seen"
   ]
  },
  {
   "cell_type": "code",
   "execution_count": 41,
   "id": "8e3a5b09",
   "metadata": {},
   "outputs": [],
   "source": [
    "import cv2 #opencv package\n",
    "import numpy as np"
   ]
  },
  {
   "cell_type": "code",
   "execution_count": 42,
   "id": "147d8ed6",
   "metadata": {},
   "outputs": [
    {
     "data": {
      "text/plain": [
       "(1024, 576)"
      ]
     },
     "execution_count": 42,
     "metadata": {},
     "output_type": "execute_result"
    }
   ],
   "source": [
    "# read the image in grayscale\n",
    "img = cv2.imread(\"inputs/linear_algebra_hw/input.jpg\",0) # the resulting image is a matrix\n",
    "# Transpose the matrix\n",
    "img_transpose = img.T\n",
    "\n",
    "img_transpose.shape"
   ]
  },
  {
   "cell_type": "code",
   "execution_count": 43,
   "id": "858185c9",
   "metadata": {},
   "outputs": [
    {
     "name": "stdout",
     "output_type": "stream",
     "text": [
      "The matrix is lower triangular ?  False\n",
      "The matrix is upper triangular ?  False\n",
      "The matrix is diagonal ? False\n"
     ]
    }
   ],
   "source": [
    "#Check if the matrix is one or many of the special types we have seen (diagonal, triagonal...).\n",
    "print(\"The matrix is lower triangular ? \",np.allclose(img_transpose, np.tril(img_transpose))) # check if lower triangular\n",
    "print(\"The matrix is upper triangular ? \",np.allclose(img_transpose, np.triu(img_transpose))) # check if upper triangular\n",
    "try:\n",
    "    print(\"The matrix is diagonal ? \",np.allclose(img_transpose, np.diag(np.diag(img_transpose)))) # check if diagonal\n",
    "except ValueError:\n",
    "    print(\"The matrix is diagonal ? False\")"
   ]
  },
  {
   "cell_type": "code",
   "execution_count": 44,
   "id": "c2025260",
   "metadata": {},
   "outputs": [
    {
     "name": "stdout",
     "output_type": "stream",
     "text": [
      "Norm1 of Column 1 :  55919\n",
      "Norm2 of Column 1 :  2640.801582853206\n"
     ]
    }
   ],
   "source": [
    "from math import sqrt\n",
    "#Choose a column vector and calculate both norms that we’ve seen\n",
    "C1 = img[:,0]\n",
    "\n",
    "# calculate norm1\n",
    "L1 = sum(abs(x) for x in C1)\n",
    "print(\"Norm1 of Column 1 : \",L1)\n",
    "\n",
    "# calculate norm2\n",
    "L2 = sqrt(sum(x**2 for x in C1))\n",
    "print(\"Norm2 of Column 1 : \",L2)"
   ]
  },
  {
   "cell_type": "code",
   "execution_count": 35,
   "id": "a4b20fa4",
   "metadata": {},
   "outputs": [],
   "source": []
  },
  {
   "cell_type": "code",
   "execution_count": null,
   "id": "87084cb7",
   "metadata": {},
   "outputs": [],
   "source": []
  },
  {
   "cell_type": "code",
   "execution_count": null,
   "id": "3cf26f68",
   "metadata": {},
   "outputs": [],
   "source": []
  }
 ],
 "metadata": {
  "kernelspec": {
   "display_name": "Python 3 (ipykernel)",
   "language": "python",
   "name": "python3"
  },
  "language_info": {
   "codemirror_mode": {
    "name": "ipython",
    "version": 3
   },
   "file_extension": ".py",
   "mimetype": "text/x-python",
   "name": "python",
   "nbconvert_exporter": "python",
   "pygments_lexer": "ipython3",
   "version": "3.8.11"
  }
 },
 "nbformat": 4,
 "nbformat_minor": 5
}
